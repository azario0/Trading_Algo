{
  "nbformat": 4,
  "nbformat_minor": 0,
  "metadata": {
    "colab": {
      "provenance": [],
      "mount_file_id": "1wFYTb8B2ghZo3xO47GcVrZUBiOB343z1",
      "authorship_tag": "ABX9TyNCV92TY1G5WFmA96x5wZ/W",
      "include_colab_link": true
    },
    "kernelspec": {
      "name": "python3",
      "display_name": "Python 3"
    },
    "language_info": {
      "name": "python"
    },
    "gpuClass": "standard"
  },
  "cells": [
    {
      "cell_type": "markdown",
      "metadata": {
        "id": "view-in-github",
        "colab_type": "text"
      },
      "source": [
        "<a href=\"https://colab.research.google.com/github/azario0/Trading_Algo/blob/main/DrawnDownCalculator.ipynb\" target=\"_parent\"><img src=\"https://colab.research.google.com/assets/colab-badge.svg\" alt=\"Open In Colab\"/></a>"
      ]
    },
    {
      "cell_type": "code",
      "source": [
        "import pandas as pd\n",
        "import datetime\n",
        "import plotly.express as px\n",
        "from random import randint"
      ],
      "metadata": {
        "id": "0EBf5IS4JK5t"
      },
      "execution_count": 2,
      "outputs": []
    },
    {
      "cell_type": "code",
      "source": [
        "path = \"/content/drive/MyDrive/EURUSD.csv\"\n",
        "df = pd.read_csv(path)\n",
        "# Data"
      ],
      "metadata": {
        "id": "RNk1LDLdBgvf"
      },
      "execution_count": 3,
      "outputs": []
    },
    {
      "cell_type": "code",
      "source": [
        "\n",
        "for i in range(8,90):\n",
        "  tab=[]\n",
        "  history = pd.read_csv(f\"/content/drive/MyDrive/SMA_100_50_TRAIL_8_200/TRAIL{i}.csv\")\n",
        "  for j in history.index:\n",
        "    open_date=history[\"open_time\"][j]\n",
        "    close_date=history[\"close_time\"][j]\n",
        "    mask = (df['time'] > open_date) & (df['time'] <= close_date)\n",
        "    data=df.loc[mask]\n",
        "    if history[\"mul\"][j]==-1:\n",
        "      cal_dd=data[\"low\"].min()\n",
        "      if history[\"pl\"][j]>0:\n",
        "        dd=abs(history[\"open_price\"][j]-cal_dd)/(history[\"close_price\"][j]-history[\"open_price\"][j])\n",
        "      else :\n",
        "        dd=-1\n",
        "    elif history[\"mul\"][j]==1:\n",
        "      cal_dd=data[\"high\"].max()\n",
        "      if history[\"pl\"][j]>0:\n",
        "        dd=abs(cal_dd-history[\"open_price\"][j])/(history[\"open_price\"][j]-history[\"close_price\"][j])\n",
        "      else :\n",
        "        dd=-1\n",
        "    tab.append(dd)\n",
        "  history[\"dd\"]=tab\n",
        "  history.to_csv(f\"/content/drive/MyDrive/SMA_100_50_TRAIL_8_200/CSV_WITH_DD/SMA{i}.csv\", encoding='utf-8', index=False)"
      ],
      "metadata": {
        "id": "83urc3Ey9M56"
      },
      "execution_count": null,
      "outputs": []
    }
  ]
}
